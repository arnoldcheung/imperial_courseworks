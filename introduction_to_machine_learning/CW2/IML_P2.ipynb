{
 "cells": [
  {
   "cell_type": "code",
   "execution_count": null,
   "metadata": {},
   "outputs": [],
   "source": [
    "import pandas as pd\n",
    "import numpy as np\n",
    "from sklearn.model_selection import train_test_split\n",
    "from sklearn.linear_model import LogisticRegression\n",
    "from sklearn.model_selection import StratifiedKFold\n",
    "import timeit\n",
    "import matplotlib.pyplot as plt\n",
    "from sklearn.model_selection import StratifiedKFold\n",
    "from sklearn.metrics import auc, roc_curve\n",
    "from scipy import interp\n",
    "# from imblearn.under_sampling import RandomUnderSampler"
   ]
  },
  {
   "cell_type": "code",
   "execution_count": 2,
   "metadata": {},
   "outputs": [],
   "source": [
    "#set random seed\n",
    "rs=3"
   ]
  },
  {
   "cell_type": "code",
   "execution_count": 3,
   "metadata": {},
   "outputs": [],
   "source": [
    "data=pd.read_csv('part2_data.csv')"
   ]
  },
  {
   "cell_type": "code",
   "execution_count": 4,
   "metadata": {
    "scrolled": true
   },
   "outputs": [
    {
     "data": {
      "text/html": [
       "<div>\n",
       "<style scoped>\n",
       "    .dataframe tbody tr th:only-of-type {\n",
       "        vertical-align: middle;\n",
       "    }\n",
       "\n",
       "    .dataframe tbody tr th {\n",
       "        vertical-align: top;\n",
       "    }\n",
       "\n",
       "    .dataframe thead th {\n",
       "        text-align: right;\n",
       "    }\n",
       "</style>\n",
       "<table border=\"1\" class=\"dataframe\">\n",
       "  <thead>\n",
       "    <tr style=\"text-align: right;\">\n",
       "      <th></th>\n",
       "      <th>drv_age1</th>\n",
       "      <th>vh_age</th>\n",
       "      <th>vh_cyl</th>\n",
       "      <th>vh_din</th>\n",
       "      <th>pol_bonus</th>\n",
       "      <th>vh_sale_begin</th>\n",
       "      <th>vh_sale_end</th>\n",
       "      <th>vh_value</th>\n",
       "      <th>vh_speed</th>\n",
       "      <th>claim_amount</th>\n",
       "      <th>made_claim</th>\n",
       "    </tr>\n",
       "  </thead>\n",
       "  <tbody>\n",
       "    <tr>\n",
       "      <td>0</td>\n",
       "      <td>54</td>\n",
       "      <td>11</td>\n",
       "      <td>1461</td>\n",
       "      <td>101</td>\n",
       "      <td>0.5</td>\n",
       "      <td>12</td>\n",
       "      <td>10</td>\n",
       "      <td>18950</td>\n",
       "      <td>179</td>\n",
       "      <td>0.00</td>\n",
       "      <td>0</td>\n",
       "    </tr>\n",
       "    <tr>\n",
       "      <td>1</td>\n",
       "      <td>69</td>\n",
       "      <td>7</td>\n",
       "      <td>1461</td>\n",
       "      <td>86</td>\n",
       "      <td>0.5</td>\n",
       "      <td>10</td>\n",
       "      <td>8</td>\n",
       "      <td>17450</td>\n",
       "      <td>174</td>\n",
       "      <td>0.00</td>\n",
       "      <td>0</td>\n",
       "    </tr>\n",
       "    <tr>\n",
       "      <td>2</td>\n",
       "      <td>62</td>\n",
       "      <td>18</td>\n",
       "      <td>2664</td>\n",
       "      <td>125</td>\n",
       "      <td>0.5</td>\n",
       "      <td>19</td>\n",
       "      <td>17</td>\n",
       "      <td>29713</td>\n",
       "      <td>155</td>\n",
       "      <td>0.00</td>\n",
       "      <td>0</td>\n",
       "    </tr>\n",
       "    <tr>\n",
       "      <td>3</td>\n",
       "      <td>44</td>\n",
       "      <td>11</td>\n",
       "      <td>3189</td>\n",
       "      <td>250</td>\n",
       "      <td>0.5</td>\n",
       "      <td>12</td>\n",
       "      <td>8</td>\n",
       "      <td>51383</td>\n",
       "      <td>214</td>\n",
       "      <td>1884.16</td>\n",
       "      <td>1</td>\n",
       "    </tr>\n",
       "    <tr>\n",
       "      <td>4</td>\n",
       "      <td>79</td>\n",
       "      <td>9</td>\n",
       "      <td>998</td>\n",
       "      <td>68</td>\n",
       "      <td>0.5</td>\n",
       "      <td>10</td>\n",
       "      <td>5</td>\n",
       "      <td>9450</td>\n",
       "      <td>157</td>\n",
       "      <td>0.00</td>\n",
       "      <td>0</td>\n",
       "    </tr>\n",
       "  </tbody>\n",
       "</table>\n",
       "</div>"
      ],
      "text/plain": [
       "   drv_age1  vh_age  vh_cyl  vh_din  pol_bonus  vh_sale_begin  vh_sale_end  \\\n",
       "0        54      11    1461     101        0.5             12           10   \n",
       "1        69       7    1461      86        0.5             10            8   \n",
       "2        62      18    2664     125        0.5             19           17   \n",
       "3        44      11    3189     250        0.5             12            8   \n",
       "4        79       9     998      68        0.5             10            5   \n",
       "\n",
       "   vh_value  vh_speed  claim_amount  made_claim  \n",
       "0     18950       179          0.00           0  \n",
       "1     17450       174          0.00           0  \n",
       "2     29713       155          0.00           0  \n",
       "3     51383       214       1884.16           1  \n",
       "4      9450       157          0.00           0  "
      ]
     },
     "execution_count": 4,
     "metadata": {},
     "output_type": "execute_result"
    }
   ],
   "source": [
    "data.head()"
   ]
  },
  {
   "cell_type": "markdown",
   "metadata": {},
   "source": [
    "No missing values."
   ]
  },
  {
   "cell_type": "code",
   "execution_count": 5,
   "metadata": {
    "scrolled": true
   },
   "outputs": [
    {
     "data": {
      "text/plain": [
       "drv_age1         False\n",
       "vh_age           False\n",
       "vh_cyl           False\n",
       "vh_din           False\n",
       "pol_bonus        False\n",
       "vh_sale_begin    False\n",
       "vh_sale_end      False\n",
       "vh_value         False\n",
       "vh_speed         False\n",
       "claim_amount     False\n",
       "made_claim       False\n",
       "dtype: bool"
      ]
     },
     "execution_count": 5,
     "metadata": {},
     "output_type": "execute_result"
    }
   ],
   "source": [
    "data.isna().any()"
   ]
  },
  {
   "cell_type": "markdown",
   "metadata": {},
   "source": [
    "Imbalanced data."
   ]
  },
  {
   "cell_type": "code",
   "execution_count": 6,
   "metadata": {
    "scrolled": true
   },
   "outputs": [
    {
     "data": {
      "text/plain": [
       "0    18139\n",
       "1     1861\n",
       "Name: made_claim, dtype: int64"
      ]
     },
     "execution_count": 6,
     "metadata": {},
     "output_type": "execute_result"
    }
   ],
   "source": [
    "data.made_claim.value_counts()"
   ]
  },
  {
   "cell_type": "markdown",
   "metadata": {},
   "source": [
    "Dropping claim amount, but can possibly be used as a richer signal for some later models."
   ]
  },
  {
   "cell_type": "code",
   "execution_count": 7,
   "metadata": {},
   "outputs": [],
   "source": [
    "data=data.drop(columns='claim_amount')"
   ]
  },
  {
   "cell_type": "markdown",
   "metadata": {},
   "source": [
    "Separate predictors from labels."
   ]
  },
  {
   "cell_type": "code",
   "execution_count": 8,
   "metadata": {},
   "outputs": [],
   "source": [
    "X, Y = data.loc[:, data.columns!= 'made_claim'].values, data.loc[:, data.columns == 'made_claim'].values.ravel()"
   ]
  },
  {
   "cell_type": "markdown",
   "metadata": {},
   "source": [
    "Function which takes sklearn classifier and performs n-fold cross-validation, plotting ROC for each fold and calculating AUC. Can optionally undersample data, but for this it requires imblearn. "
   ]
  },
  {
   "cell_type": "code",
   "execution_count": 9,
   "metadata": {},
   "outputs": [],
   "source": [
    "# rus = RandomUnderSampler(random_state=rs)\n",
    "summary_roc={}\n",
    "\n",
    "def cv_mean_roc(X, y, classifier, name, undersample_data=False, n_splits=5):\n",
    "      \n",
    "    cv = StratifiedKFold(n_splits=n_splits)\n",
    "    \n",
    "    tprs = []\n",
    "    aucs = []\n",
    "    mean_fpr = np.linspace(0, 1, 100)\n",
    "    \n",
    "\n",
    "\n",
    "    i = 0\n",
    "    start_time = timeit.default_timer()\n",
    "    plt.figure(figsize=(6,6))\n",
    "    for train, test in cv.split(X, y):\n",
    "        if undersample_data: #need RandomUnderSampler from imblearn to work\n",
    "            X_b, y_b=rus.fit_resample(X[train], y[train])\n",
    "            probas_ = classifier.fit(X_b, y_b).predict_proba(X[test])\n",
    "        else:\n",
    "            probas_ = classifier.fit(X[train], y[train]).predict_proba(X[test])\n",
    "        \n",
    "        # Compute ROC curve and area the curve\n",
    "        fpr, tpr, thresholds = roc_curve(y[test], probas_[:, 1])\n",
    "        tprs.append(interp(mean_fpr, fpr, tpr))\n",
    "        tprs[-1][0] = 0.0\n",
    "        roc_auc = auc(fpr, tpr)\n",
    "        aucs.append(roc_auc)\n",
    "        plt.plot(fpr, tpr, lw=1, alpha=0.3,\n",
    "                 label='ROC fold %d (AUC = %0.2f)' % (i, roc_auc))\n",
    "\n",
    "        i += 1\n",
    "    elapsed = timeit.default_timer() - start_time\n",
    "    \n",
    "    plt.plot([0, 1], [0, 1], linestyle='--', lw=2, color='r',\n",
    "             label='Chance', alpha=.8)\n",
    "\n",
    "    mean_tpr = np.mean(tprs, axis=0)\n",
    "    mean_tpr[-1] = 1.0\n",
    "    mean_auc = auc(mean_fpr, mean_tpr)\n",
    "    std_auc = np.std(aucs)\n",
    "    plt.plot(mean_fpr, mean_tpr, color='b',\n",
    "             label=r'Mean ROC (AUC = %0.2f $\\pm$ %0.2f)' % (mean_auc, std_auc),\n",
    "             lw=2, alpha=.8)\n",
    "\n",
    "    std_tpr = np.std(tprs, axis=0)\n",
    "    tprs_upper = np.minimum(mean_tpr + std_tpr, 1)\n",
    "    tprs_lower = np.maximum(mean_tpr - std_tpr, 0)\n",
    "    plt.fill_between(mean_fpr, tprs_lower, tprs_upper, color='grey', alpha=.2,\n",
    "                     label=r'$\\pm$ 1 std. dev.')\n",
    "\n",
    "    plt.xlim([-0.05, 1.05])\n",
    "    plt.ylim([-0.05, 1.05])\n",
    "    plt.xlabel('False Positive Rate')\n",
    "    plt.ylabel('True Positive Rate')\n",
    "    plt.title(name+' ROC')\n",
    "    plt.legend(loc=\"lower right\")\n",
    "    plt.show()\n",
    "    \n",
    "    summary_roc[name]=(mean_fpr, mean_tpr, mean_auc, std_auc, elapsed)"
   ]
  },
  {
   "cell_type": "code",
   "execution_count": 10,
   "metadata": {
    "scrolled": false
   },
   "outputs": [
    {
     "data": {
      "image/png": "[encoded data removed]",
      "text/plain": [
       "<Figure size 432x432 with 1 Axes>"
      ]
     },
     "metadata": {
      "needs_background": "light"
     },
     "output_type": "display_data"
    }
   ],
   "source": [
    "logreg=LogisticRegression(class_weight='balanced', random_state=rs, solver='lbfgs', max_iter=1000)\n",
    "\n",
    "cv_mean_roc(X, Y, logreg, 'Logistic regression', n_splits=5)"
   ]
  },
  {
   "cell_type": "code",
   "execution_count": null,
   "metadata": {},
   "outputs": [],
   "source": []
  }
 ],
 "metadata": {
  "kernelspec": {
   "display_name": "Python 3",
   "language": "python",
   "name": "python3"
  },
  "language_info": {
   "codemirror_mode": {
    "name": "ipython",
    "version": 3
   },
   "file_extension": ".py",
   "mimetype": "text/x-python",
   "name": "python",
   "nbconvert_exporter": "python",
   "pygments_lexer": "ipython3",
   "version": "3.7.4"
  }
 },
 "nbformat": 4,
 "nbformat_minor": 2
}
