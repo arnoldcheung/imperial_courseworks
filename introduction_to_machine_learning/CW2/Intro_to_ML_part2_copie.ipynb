{
 "cells": [
  {
   "cell_type": "code",
   "execution_count": 15,
   "metadata": {},
   "outputs": [],
   "source": [
    "import pandas as pd\n",
    "import numpy as np\n",
    "from collections import Counter\n",
    "from sklearn.model_selection import train_test_split\n",
    "from sklearn.preprocessing import LabelEncoder, OneHotEncoder\n",
    "from sklearn.linear_model import LogisticRegression\n",
    "from sklearn.model_selection import StratifiedKFold\n",
    "import timeit\n",
    "import matplotlib.pyplot as plt\n",
    "from sklearn.model_selection import StratifiedKFold\n",
    "from sklearn.metrics import auc, roc_curve, accuracy_score, confusion_matrix\n",
    "from scipy import interp\n",
    "from imblearn.under_sampling import RandomUnderSampler\n",
    "import keras\n",
    "from keras.models import Sequential\n",
    "from keras.layers import Dense"
   ]
  },
  {
   "cell_type": "code",
   "execution_count": 16,
   "metadata": {},
   "outputs": [],
   "source": [
    "#set random seed\n",
    "rs=3"
   ]
  },
  {
   "cell_type": "code",
   "execution_count": 17,
   "metadata": {},
   "outputs": [],
   "source": [
    "data=pd.read_csv('part2_data.csv')"
   ]
  },
  {
   "cell_type": "code",
   "execution_count": 18,
   "metadata": {},
   "outputs": [
    {
     "data": {
      "text/html": [
       "<div>\n",
       "<style scoped>\n",
       "    .dataframe tbody tr th:only-of-type {\n",
       "        vertical-align: middle;\n",
       "    }\n",
       "\n",
       "    .dataframe tbody tr th {\n",
       "        vertical-align: top;\n",
       "    }\n",
       "\n",
       "    .dataframe thead th {\n",
       "        text-align: right;\n",
       "    }\n",
       "</style>\n",
       "<table border=\"1\" class=\"dataframe\">\n",
       "  <thead>\n",
       "    <tr style=\"text-align: right;\">\n",
       "      <th></th>\n",
       "      <th>drv_age1</th>\n",
       "      <th>vh_age</th>\n",
       "      <th>vh_cyl</th>\n",
       "      <th>vh_din</th>\n",
       "      <th>pol_bonus</th>\n",
       "      <th>vh_sale_begin</th>\n",
       "      <th>vh_sale_end</th>\n",
       "      <th>vh_value</th>\n",
       "      <th>vh_speed</th>\n",
       "      <th>claim_amount</th>\n",
       "      <th>made_claim</th>\n",
       "    </tr>\n",
       "  </thead>\n",
       "  <tbody>\n",
       "    <tr>\n",
       "      <th>0</th>\n",
       "      <td>54</td>\n",
       "      <td>11</td>\n",
       "      <td>1461</td>\n",
       "      <td>101</td>\n",
       "      <td>0.5</td>\n",
       "      <td>12</td>\n",
       "      <td>10</td>\n",
       "      <td>18950</td>\n",
       "      <td>179</td>\n",
       "      <td>0.00</td>\n",
       "      <td>0</td>\n",
       "    </tr>\n",
       "    <tr>\n",
       "      <th>1</th>\n",
       "      <td>69</td>\n",
       "      <td>7</td>\n",
       "      <td>1461</td>\n",
       "      <td>86</td>\n",
       "      <td>0.5</td>\n",
       "      <td>10</td>\n",
       "      <td>8</td>\n",
       "      <td>17450</td>\n",
       "      <td>174</td>\n",
       "      <td>0.00</td>\n",
       "      <td>0</td>\n",
       "    </tr>\n",
       "    <tr>\n",
       "      <th>2</th>\n",
       "      <td>62</td>\n",
       "      <td>18</td>\n",
       "      <td>2664</td>\n",
       "      <td>125</td>\n",
       "      <td>0.5</td>\n",
       "      <td>19</td>\n",
       "      <td>17</td>\n",
       "      <td>29713</td>\n",
       "      <td>155</td>\n",
       "      <td>0.00</td>\n",
       "      <td>0</td>\n",
       "    </tr>\n",
       "    <tr>\n",
       "      <th>3</th>\n",
       "      <td>44</td>\n",
       "      <td>11</td>\n",
       "      <td>3189</td>\n",
       "      <td>250</td>\n",
       "      <td>0.5</td>\n",
       "      <td>12</td>\n",
       "      <td>8</td>\n",
       "      <td>51383</td>\n",
       "      <td>214</td>\n",
       "      <td>1884.16</td>\n",
       "      <td>1</td>\n",
       "    </tr>\n",
       "    <tr>\n",
       "      <th>4</th>\n",
       "      <td>79</td>\n",
       "      <td>9</td>\n",
       "      <td>998</td>\n",
       "      <td>68</td>\n",
       "      <td>0.5</td>\n",
       "      <td>10</td>\n",
       "      <td>5</td>\n",
       "      <td>9450</td>\n",
       "      <td>157</td>\n",
       "      <td>0.00</td>\n",
       "      <td>0</td>\n",
       "    </tr>\n",
       "  </tbody>\n",
       "</table>\n",
       "</div>"
      ],
      "text/plain": [
       "   drv_age1  vh_age  vh_cyl  vh_din  pol_bonus  vh_sale_begin  vh_sale_end  \\\n",
       "0        54      11    1461     101        0.5             12           10   \n",
       "1        69       7    1461      86        0.5             10            8   \n",
       "2        62      18    2664     125        0.5             19           17   \n",
       "3        44      11    3189     250        0.5             12            8   \n",
       "4        79       9     998      68        0.5             10            5   \n",
       "\n",
       "   vh_value  vh_speed  claim_amount  made_claim  \n",
       "0     18950       179          0.00           0  \n",
       "1     17450       174          0.00           0  \n",
       "2     29713       155          0.00           0  \n",
       "3     51383       214       1884.16           1  \n",
       "4      9450       157          0.00           0  "
      ]
     },
     "execution_count": 18,
     "metadata": {},
     "output_type": "execute_result"
    }
   ],
   "source": [
    "data.head()\n"
   ]
  },
  {
   "cell_type": "markdown",
   "metadata": {},
   "source": [
    "Imbalanced dataset"
   ]
  },
  {
   "cell_type": "code",
   "execution_count": 19,
   "metadata": {},
   "outputs": [
    {
     "data": {
      "text/plain": [
       "0    18139\n",
       "1     1861\n",
       "Name: made_claim, dtype: int64"
      ]
     },
     "execution_count": 19,
     "metadata": {},
     "output_type": "execute_result"
    }
   ],
   "source": [
    "data.made_claim.value_counts()"
   ]
  },
  {
   "cell_type": "code",
   "execution_count": 20,
   "metadata": {},
   "outputs": [],
   "source": [
    "data=data.drop(columns='claim_amount')\n",
    "X, Y = data.loc[:, data.columns!= 'made_claim'].values, data.loc[:, data.columns == 'made_claim'].values.ravel()"
   ]
  },
  {
   "cell_type": "markdown",
   "metadata": {},
   "source": [
    "Splitting the dataset"
   ]
  },
  {
   "cell_type": "code",
   "execution_count": 21,
   "metadata": {},
   "outputs": [],
   "source": [
    "X_train, X_test, y_train, y_test = train_test_split(X, Y, test_size=0.25, random_state=23)"
   ]
  },
  {
   "cell_type": "markdown",
   "metadata": {},
   "source": [
    "Downsample the majority class"
   ]
  },
  {
   "cell_type": "code",
   "execution_count": 22,
   "metadata": {},
   "outputs": [],
   "source": [
    "rus = RandomUnderSampler(random_state=rs)\n",
    "X_train, y_train=rus.fit_resample(X_train, y_train)\n",
    "X_test, y_test=rus.fit_resample(X_test, y_test)\n"
   ]
  },
  {
   "cell_type": "code",
   "execution_count": 23,
   "metadata": {},
   "outputs": [],
   "source": [
    "# import tensorflow as tf\n",
    "# from keras import backend as K\n",
    "\n",
    "# def auc(y_true, y_pred):\n",
    "#     auc = tf.metrics.auc(y_true, y_pred)[1]\n",
    "#     K.get_session().run(tf.local_variables_initializer())\n",
    "#     return auc\n"
   ]
  },
  {
   "cell_type": "code",
   "execution_count": 24,
   "metadata": {},
   "outputs": [],
   "source": [
    "\n",
    "def model_baseline():\n",
    "    \n",
    "    #initializing the ANN\n",
    "    classifier = Sequential()\n",
    "\n",
    "    #adding an input layer and the first hidden layer\n",
    "    classifier.add(Dense(output_dim = 6,kernel_initializer='uniform',activation = 'relu',input_dim=9))\n",
    "\n",
    "    #adding the second hidden layer\n",
    "    classifier.add(Dense(output_dim =4,kernel_initializer='uniform',activation = 'relu'))\n",
    "\n",
    "    #Adding the output layer\n",
    "    classifier.add(Dense(output_dim = 1 ,kernel_initializer='uniform',activation = 'sigmoid'))\n",
    "\n",
    "\n",
    "    #Compile the model\n",
    "    classifier.compile(loss='binary_crossentropy', optimizer='adam', metrics=['accuracy'])\n",
    "\n",
    "    #Fitting the ANN to the traning set\n",
    "    #classifier.fit(X_train, y_train,validation_data =(X_test,y_test),epochs=10,batch_size=64)\n",
    "\n",
    "    \n",
    "    return classifier\n",
    "\n",
    "\n",
    "\n",
    "# cv_mean_roc(X, Y, model, 'NN',False, n_splits=5)"
   ]
  },
  {
   "cell_type": "code",
   "execution_count": 28,
   "metadata": {},
   "outputs": [
    {
     "name": "stderr",
     "output_type": "stream",
     "text": [
      "/Library/Frameworks/Python.framework/Versions/3.6/lib/python3.6/site-packages/ipykernel_launcher.py:8: UserWarning: Update your `Dense` call to the Keras 2 API: `Dense(kernel_initializer=\"uniform\", activation=\"relu\", input_dim=9, units=6)`\n",
      "  \n",
      "/Library/Frameworks/Python.framework/Versions/3.6/lib/python3.6/site-packages/ipykernel_launcher.py:11: UserWarning: Update your `Dense` call to the Keras 2 API: `Dense(kernel_initializer=\"uniform\", activation=\"relu\", units=4)`\n",
      "  # This is added back by InteractiveShellApp.init_path()\n",
      "/Library/Frameworks/Python.framework/Versions/3.6/lib/python3.6/site-packages/ipykernel_launcher.py:14: UserWarning: Update your `Dense` call to the Keras 2 API: `Dense(kernel_initializer=\"uniform\", activation=\"sigmoid\", units=1)`\n",
      "  \n"
     ]
    },
    {
     "name": "stdout",
     "output_type": "stream",
     "text": [
      "Train on 2814 samples, validate on 908 samples\n",
      "Epoch 1/10\n",
      "2814/2814 [==============================] - 0s 85us/step - loss: 0.7415 - accuracy: 0.4996 - val_loss: 0.6920 - val_accuracy: 0.5022\n",
      "Epoch 2/10\n",
      "2814/2814 [==============================] - 0s 29us/step - loss: 0.6927 - accuracy: 0.5210 - val_loss: 0.6888 - val_accuracy: 0.5275\n",
      "Epoch 3/10\n",
      "2814/2814 [==============================] - 0s 27us/step - loss: 0.6928 - accuracy: 0.5064 - val_loss: 0.6933 - val_accuracy: 0.5000\n",
      "Epoch 4/10\n",
      "2814/2814 [==============================] - 0s 27us/step - loss: 0.6922 - accuracy: 0.5043 - val_loss: 0.6910 - val_accuracy: 0.5022\n",
      "Epoch 5/10\n",
      "2814/2814 [==============================] - 0s 25us/step - loss: 0.6917 - accuracy: 0.5039 - val_loss: 0.6907 - val_accuracy: 0.5033\n",
      "Epoch 6/10\n",
      "2814/2814 [==============================] - 0s 25us/step - loss: 0.6905 - accuracy: 0.5092 - val_loss: 0.6905 - val_accuracy: 0.5033\n",
      "Epoch 7/10\n",
      "2814/2814 [==============================] - 0s 26us/step - loss: 0.6911 - accuracy: 0.5131 - val_loss: 0.6904 - val_accuracy: 0.5176\n",
      "Epoch 8/10\n",
      "2814/2814 [==============================] - 0s 27us/step - loss: 0.6887 - accuracy: 0.5231 - val_loss: 0.6909 - val_accuracy: 0.5033\n",
      "Epoch 9/10\n",
      "2814/2814 [==============================] - 0s 26us/step - loss: 0.6907 - accuracy: 0.5352 - val_loss: 0.6899 - val_accuracy: 0.5099\n",
      "Epoch 10/10\n",
      "2814/2814 [==============================] - 0s 33us/step - loss: 0.6902 - accuracy: 0.5195 - val_loss: 0.6898 - val_accuracy: 0.5220\n"
     ]
    },
    {
     "data": {
      "text/plain": [
       "<keras.callbacks.callbacks.History at 0x13cb8b390>"
      ]
     },
     "execution_count": 28,
     "metadata": {},
     "output_type": "execute_result"
    }
   ],
   "source": [
    "from keras.wrappers.scikit_learn import KerasClassifier\n",
    "keras_model = model_baseline()\n",
    "keras_model.fit(X_train, y_train,validation_data =(X_test,y_test),epochs=10,batch_size=64)\n",
    "\n",
    "\n"
   ]
  },
  {
   "cell_type": "code",
   "execution_count": 29,
   "metadata": {},
   "outputs": [],
   "source": [
    "from sklearn.metrics import roc_curve\n",
    "y_pred_keras = keras_model.predict(X_test).ravel()\n",
    "fpr_keras, tpr_keras, thresholds_keras = roc_curve(y_test, y_pred_keras)"
   ]
  },
  {
   "cell_type": "code",
   "execution_count": 30,
   "metadata": {},
   "outputs": [],
   "source": [
    "from sklearn.metrics import auc\n",
    "auc_keras = auc(fpr_keras, tpr_keras)"
   ]
  },
  {
   "cell_type": "code",
   "execution_count": 31,
   "metadata": {},
   "outputs": [
    {
     "data": {
      "image/png": "[encoded data removed]",
      "text/plain": [
       "<Figure size 432x288 with 1 Axes>"
      ]
     },
     "metadata": {},
     "output_type": "display_data"
    }
   ],
   "source": [
    "plt.plot([0, 1], [0, 1], 'k--')\n",
    "plt.plot(fpr_keras, tpr_keras, label='Keras (area = {:.3f})'.format(auc_keras))\n",
    "plt.xlabel('False positive rate')\n",
    "plt.ylabel('True positive rate')\n",
    "plt.title('ROC curve')\n",
    "plt.legend(loc='best')\n",
    "plt.show()"
   ]
  },
  {
   "cell_type": "code",
   "execution_count": null,
   "metadata": {},
   "outputs": [],
   "source": []
  }
 ],
 "metadata": {
  "kernelspec": {
   "display_name": "Python 3",
   "language": "python",
   "name": "python3"
  },
  "language_info": {
   "codemirror_mode": {
    "name": "ipython",
    "version": 3
   },
   "file_extension": ".py",
   "mimetype": "text/x-python",
   "name": "python",
   "nbconvert_exporter": "python",
   "pygments_lexer": "ipython3",
   "version": "3.6.5"
  }
 },
 "nbformat": 4,
 "nbformat_minor": 2
}
