{
 "cells": [
  {
   "cell_type": "code",
   "execution_count": null,
   "metadata": {},
   "outputs": [],
   "source": [
    "import pandas as pd\n",
    "import numpy as np\n",
    "import matplotlib.pyplot as plt\n",
    "\n",
    "from sklearn.model_selection import train_test_split\n",
    "from sklearn.metrics import auc, roc_curve\n",
    "from sklearn.utils import class_weight\n",
    "from sklearn.preprocessing import StandardScaler\n",
    "\n",
    "from scipy import interp\n",
    "\n",
    "import tensorflow as tf"
   ]
  },
  {
   "cell_type": "code",
   "execution_count": 2,
   "metadata": {},
   "outputs": [],
   "source": [
    "#set random seed\n",
    "rs=6\n",
    "tf.random.set_seed(rs)\n",
    "np.random.seed(rs)"
   ]
  },
  {
   "cell_type": "code",
   "execution_count": 3,
   "metadata": {},
   "outputs": [],
   "source": [
    "#Load data\n",
    "data=pd.read_csv('part2_data.csv')"
   ]
  },
  {
   "cell_type": "code",
   "execution_count": 4,
   "metadata": {},
   "outputs": [],
   "source": [
    "#Remove column \n",
    "data=data.drop(columns='claim_amount')"
   ]
  },
  {
   "cell_type": "code",
   "execution_count": 5,
   "metadata": {},
   "outputs": [],
   "source": [
    "#Split features from labels\n",
    "X, Y = data.loc[:, data.columns!= 'made_claim'].values, data.loc[:, data.columns == 'made_claim'].values.ravel()"
   ]
  },
  {
   "cell_type": "code",
   "execution_count": 6,
   "metadata": {},
   "outputs": [],
   "source": [
    "#Split to train, validation, test\n",
    "X_train_val, X_test, Y_train_val, Y_test = train_test_split(X, Y, test_size=0.1, random_state=rs)\n",
    "X_train, X_val, Y_train, Y_val = train_test_split(X_train_val, Y_train_val, test_size=0.1, random_state=rs)"
   ]
  },
  {
   "cell_type": "code",
   "execution_count": 7,
   "metadata": {},
   "outputs": [],
   "source": [
    "#Scale data\n",
    "ss=StandardScaler()\n",
    "X_train_scaled = ss.fit_transform(X_train)\n",
    "X_val_scaled = ss.transform(X_val)\n",
    "X_test_scaled = ss.transform(X_test)"
   ]
  },
  {
   "cell_type": "code",
   "execution_count": 8,
   "metadata": {
    "scrolled": true
   },
   "outputs": [],
   "source": [
    "#We have imbalanced data so need to adjust loss for that\n",
    "class_weights = class_weight.compute_class_weight('balanced', np.unique(Y_train), Y_train)\n",
    "# val_class_weights = class_weight.compute_class_weight('balanced', np.unique(Y_val), Y_val)"
   ]
  },
  {
   "cell_type": "code",
   "execution_count": 9,
   "metadata": {},
   "outputs": [],
   "source": [
    "#Initializes weights in neural network \n",
    "NormalInitializer = tf.keras.initializers.RandomNormal(mean=0, stddev=0.25, seed=rs)\n",
    "#Optimizer\n",
    "sgd = tf.keras.optimizers.SGD(learning_rate=0.01)\n",
    "#Add layers with parameters of your choice\n",
    "model = tf.keras.models.Sequential()\n",
    "model.add(tf.keras.layers.Dense(7, activation='relu', kernel_initializer=NormalInitializer, bias_initializer='zeros'))\n",
    "# model.add(tf.keras.layers.Dense(7, activation='relu', kernel_initializer=NormalInitializer, bias_initializer='zeros'))\n",
    "model.add(tf.keras.layers.Dense(1, activation='sigmoid', kernel_initializer=NormalInitializer, bias_initializer='zeros'))\n",
    "#Compile model. Rerunning this cell resets weights to initial state.\n",
    "model.compile(optimizer=sgd, loss='binary_crossentropy')"
   ]
  },
  {
   "cell_type": "code",
   "execution_count": 10,
   "metadata": {
    "scrolled": false
   },
   "outputs": [
    {
     "name": "stdout",
     "output_type": "stream",
     "text": [
      "Train on 16200 samples, validate on 1800 samples\n",
      "Epoch 1/30\n",
      "16200/16200 [==============================] - 1s 59us/sample - loss: 0.4341 - val_loss: 0.3226\n",
      "Epoch 2/30\n",
      "16200/16200 [==============================] - 0s 27us/sample - loss: 0.3129 - val_loss: 0.2968\n",
      "Epoch 3/30\n",
      "16200/16200 [==============================] - 0s 27us/sample - loss: 0.3029 - val_loss: 0.2926\n",
      "Epoch 4/30\n",
      "16200/16200 [==============================] - 0s 27us/sample - loss: 0.3010 - val_loss: 0.2913\n",
      "Epoch 5/30\n",
      "16200/16200 [==============================] - 0s 27us/sample - loss: 0.3002 - val_loss: 0.2906\n",
      "Epoch 6/30\n",
      "16200/16200 [==============================] - 0s 27us/sample - loss: 0.2997 - val_loss: 0.2903\n",
      "Epoch 7/30\n",
      "16200/16200 [==============================] - 0s 27us/sample - loss: 0.2994 - val_loss: 0.2900\n",
      "Epoch 8/30\n",
      "16200/16200 [==============================] - 0s 27us/sample - loss: 0.2991 - val_loss: 0.2898\n",
      "Epoch 9/30\n",
      "16200/16200 [==============================] - 0s 27us/sample - loss: 0.2988 - val_loss: 0.2897\n",
      "Model: \"sequential\"\n",
      "_________________________________________________________________\n",
      "Layer (type)                 Output Shape              Param #   \n",
      "=================================================================\n",
      "dense (Dense)                multiple                  70        \n",
      "_________________________________________________________________\n",
      "dense_1 (Dense)              multiple                  8         \n",
      "=================================================================\n",
      "Total params: 78\n",
      "Trainable params: 78\n",
      "Non-trainable params: 0\n",
      "_________________________________________________________________\n"
     ]
    },
    {
     "data": {
      "image/png": "[encoded data removed]",
      "text/plain": [
       "<Figure size 432x288 with 1 Axes>"
      ]
     },
     "metadata": {
      "needs_background": "light"
     },
     "output_type": "display_data"
    }
   ],
   "source": [
    "#Enforces early stop if val_loss behaves in a certain way\n",
    "EarlyStopping = tf.keras.callbacks.EarlyStopping(monitor='val_loss', min_delta = 0.005, patience = 5, mode='auto', restore_best_weights=True)\n",
    "#Fit model. Progress is not lost when you rerun this cell, e.g. if you run it manually twice it's like you did 2*num_epochs of training.\n",
    "model.fit(X_train_scaled, Y_train, class_weight=class_weights, epochs=30, validation_data=(X_val_scaled, Y_val), callbacks=[EarlyStopping])\n",
    "model.summary()\n",
    "\n",
    "#Plot ROC\n",
    "fpr, tpr, thresholds = roc_curve(Y_test, model.predict(X_test_scaled))\n",
    "plt.plot(fpr, tpr, lw=1, alpha=0.3, label='ROC (AUC = %0.2f)' % auc(fpr, tpr))\n",
    "plt.legend(loc='best')\n",
    "plt.show()"
   ]
  },
  {
   "cell_type": "code",
   "execution_count": 11,
   "metadata": {},
   "outputs": [],
   "source": [
    "#Save good models (with AUC>0.65)\n",
    "\n",
    "# model.save('model_keras_xxx.h5')"
   ]
  }
 ],
 "metadata": {
  "kernelspec": {
   "display_name": "Python 3",
   "language": "python",
   "name": "python3"
  },
  "language_info": {
   "codemirror_mode": {
    "name": "ipython",
    "version": 3
   },
   "file_extension": ".py",
   "mimetype": "text/x-python",
   "name": "python",
   "nbconvert_exporter": "python",
   "pygments_lexer": "ipython3",
   "version": "3.7.5"
  }
 },
 "nbformat": 4,
 "nbformat_minor": 2
}
